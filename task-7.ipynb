{
 "cells": [
  {
   "cell_type": "code",
   "execution_count": null,
   "id": "e3ed17a0-d1fb-46c6-8432-80066b276775",
   "metadata": {},
   "outputs": [],
   "source": []
  }
 ],
 "metadata": {
  "kernelspec": {
   "display_name": "",
   "name": ""
  },
  "language_info": {
   "name": ""
  }
 },
 "nbformat": 4,
 "nbformat_minor": 5
}
